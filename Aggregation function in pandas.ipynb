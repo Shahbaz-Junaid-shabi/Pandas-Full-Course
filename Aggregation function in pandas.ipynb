{
 "cells": [
  {
   "cell_type": "markdown",
   "id": "f51ed44a-f0a5-487a-a4ec-deee4aaa0be5",
   "metadata": {},
   "source": [
    "# Aggregation Function in pandas"
   ]
  },
  {
   "cell_type": "code",
   "execution_count": 36,
   "id": "5fae9025-eb92-4c44-92be-878ddd72bdc3",
   "metadata": {},
   "outputs": [
    {
     "data": {
      "text/html": [
       "<div>\n",
       "<style scoped>\n",
       "    .dataframe tbody tr th:only-of-type {\n",
       "        vertical-align: middle;\n",
       "    }\n",
       "\n",
       "    .dataframe tbody tr th {\n",
       "        vertical-align: top;\n",
       "    }\n",
       "\n",
       "    .dataframe thead th {\n",
       "        text-align: right;\n",
       "    }\n",
       "</style>\n",
       "<table border=\"1\" class=\"dataframe\">\n",
       "  <thead>\n",
       "    <tr style=\"text-align: right;\">\n",
       "      <th></th>\n",
       "      <th>Name</th>\n",
       "      <th>Age</th>\n",
       "      <th>City</th>\n",
       "      <th>Salary</th>\n",
       "      <th>Perfomance Score</th>\n",
       "    </tr>\n",
       "  </thead>\n",
       "  <tbody>\n",
       "    <tr>\n",
       "      <th>0</th>\n",
       "      <td>Alice</td>\n",
       "      <td>25</td>\n",
       "      <td>New York</td>\n",
       "      <td>50000</td>\n",
       "      <td>78.0</td>\n",
       "    </tr>\n",
       "    <tr>\n",
       "      <th>1</th>\n",
       "      <td>Bob</td>\n",
       "      <td>30</td>\n",
       "      <td>Los Angeles</td>\n",
       "      <td>60000</td>\n",
       "      <td>NaN</td>\n",
       "    </tr>\n",
       "    <tr>\n",
       "      <th>2</th>\n",
       "      <td>Charlie</td>\n",
       "      <td>45</td>\n",
       "      <td>Chicago</td>\n",
       "      <td>70000</td>\n",
       "      <td>90.0</td>\n",
       "    </tr>\n",
       "    <tr>\n",
       "      <th>3</th>\n",
       "      <td>David</td>\n",
       "      <td>14</td>\n",
       "      <td>Houston</td>\n",
       "      <td>80000</td>\n",
       "      <td>80.0</td>\n",
       "    </tr>\n",
       "  </tbody>\n",
       "</table>\n",
       "</div>"
      ],
      "text/plain": [
       "      Name  Age         City  Salary  Perfomance Score\n",
       "0    Alice   25     New York   50000              78.0\n",
       "1      Bob   30  Los Angeles   60000               NaN\n",
       "2  Charlie   45      Chicago   70000              90.0\n",
       "3    David   14      Houston   80000              80.0"
      ]
     },
     "execution_count": 36,
     "metadata": {},
     "output_type": "execute_result"
    }
   ],
   "source": [
    "import pandas as pd\n",
    "\n",
    "# Sample data dictionary\n",
    "data = {\n",
    "    'Name': ['Alice', 'Bob', 'Charlie', 'David'],\n",
    "    'Age': [25, 30, 45, 14],\n",
    "    'City': ['New York', 'Los Angeles', 'Chicago', 'Houston'],\n",
    "    'Salary': [50000, 60000, 70000, 80000],\n",
    "    'Perfomance Score': [78, None, 90, 80]\n",
    "}\n",
    "\n",
    "# Convert the dictionary into two DataFrames\n",
    "df1 = pd.DataFrame(data)\n",
    "df1\n"
   ]
  },
  {
   "cell_type": "code",
   "execution_count": 37,
   "id": "8c238a59-b73e-40d8-bc73-93bb2b29925b",
   "metadata": {},
   "outputs": [
    {
     "data": {
      "text/html": [
       "<div>\n",
       "<style scoped>\n",
       "    .dataframe tbody tr th:only-of-type {\n",
       "        vertical-align: middle;\n",
       "    }\n",
       "\n",
       "    .dataframe tbody tr th {\n",
       "        vertical-align: top;\n",
       "    }\n",
       "\n",
       "    .dataframe thead th {\n",
       "        text-align: right;\n",
       "    }\n",
       "</style>\n",
       "<table border=\"1\" class=\"dataframe\">\n",
       "  <thead>\n",
       "    <tr style=\"text-align: right;\">\n",
       "      <th></th>\n",
       "      <th>Age</th>\n",
       "      <th>Salary</th>\n",
       "    </tr>\n",
       "  </thead>\n",
       "  <tbody>\n",
       "    <tr>\n",
       "      <th>mean</th>\n",
       "      <td>28.5</td>\n",
       "      <td>65000.0</td>\n",
       "    </tr>\n",
       "    <tr>\n",
       "      <th>min</th>\n",
       "      <td>14.0</td>\n",
       "      <td>NaN</td>\n",
       "    </tr>\n",
       "    <tr>\n",
       "      <th>max</th>\n",
       "      <td>45.0</td>\n",
       "      <td>NaN</td>\n",
       "    </tr>\n",
       "    <tr>\n",
       "      <th>sum</th>\n",
       "      <td>NaN</td>\n",
       "      <td>260000.0</td>\n",
       "    </tr>\n",
       "  </tbody>\n",
       "</table>\n",
       "</div>"
      ],
      "text/plain": [
       "       Age    Salary\n",
       "mean  28.5   65000.0\n",
       "min   14.0       NaN\n",
       "max   45.0       NaN\n",
       "sum    NaN  260000.0"
      ]
     },
     "execution_count": 37,
     "metadata": {},
     "output_type": "execute_result"
    }
   ],
   "source": [
    "df1.agg({'Age': ['mean', 'min', 'max'], 'Salary': ['sum', 'mean']})\n"
   ]
  },
  {
   "cell_type": "markdown",
   "id": "19079433-06b2-4c77-a04c-aeed8c25e128",
   "metadata": {},
   "source": [
    "# summary Statictics "
   ]
  },
  {
   "cell_type": "code",
   "execution_count": 19,
   "id": "d0a96935-c414-432e-95b2-755cbdfe70ea",
   "metadata": {},
   "outputs": [
    {
     "name": "stdout",
     "output_type": "stream",
     "text": [
      "31.666666666666668\n"
     ]
    }
   ],
   "source": [
    "import pandas as pd\n",
    "import numpy as np  # Import NumPy for NaN handling\n",
    "\n",
    "# Sample data\n",
    "data = {\n",
    "    'Name': ['Alice', 'Bob', 'Charlie', 'David'],\n",
    "    'Age': [25, 30, None, 40],  # None is present\n",
    "    'City': ['New York', 'Los Angeles', 'Chicago', 'Houston'],\n",
    "    'Salary': [50000, None, 70000, 80000],\n",
    "    'Perfomance Score': [78, None, 90, 80]\n",
    "}\n",
    "\n",
    "# Convert to DataFrame\n",
    "df1 = pd.DataFrame(data)\n",
    "\n",
    "# Convert 'None' to NaN (important for calculations)\n",
    "df1['Age'] = df1['Age'].astype(float)\n",
    "\n",
    "# Now calculate the mean\n",
    "df2 = df1['Age'].mean()\n",
    "print(df2)  # Expected output: 31.67\n"
   ]
  },
  {
   "cell_type": "code",
   "execution_count": 20,
   "id": "f15c0913-166b-4086-9bd1-9bb63d883a33",
   "metadata": {},
   "outputs": [
    {
     "data": {
      "text/plain": [
       "66666.66666666667"
      ]
     },
     "execution_count": 20,
     "metadata": {},
     "output_type": "execute_result"
    }
   ],
   "source": [
    "# Convert 'None' to NaN (important for calculations)\n",
    "df1['Salary'] = df1['Salary'].astype(float)\n",
    "df1 = df1['Salary'].mean()\n",
    "df1"
   ]
  },
  {
   "cell_type": "markdown",
   "id": "10c3f2af-6a75-44b6-8d45-44b2cfd538f8",
   "metadata": {},
   "source": [
    "# Grouping "
   ]
  },
  {
   "cell_type": "code",
   "execution_count": 21,
   "id": "34500687-7170-497d-a1fe-6ecd1a9dd771",
   "metadata": {},
   "outputs": [
    {
     "data": {
      "text/html": [
       "<div>\n",
       "<style scoped>\n",
       "    .dataframe tbody tr th:only-of-type {\n",
       "        vertical-align: middle;\n",
       "    }\n",
       "\n",
       "    .dataframe tbody tr th {\n",
       "        vertical-align: top;\n",
       "    }\n",
       "\n",
       "    .dataframe thead th {\n",
       "        text-align: right;\n",
       "    }\n",
       "</style>\n",
       "<table border=\"1\" class=\"dataframe\">\n",
       "  <thead>\n",
       "    <tr style=\"text-align: right;\">\n",
       "      <th></th>\n",
       "      <th>Name</th>\n",
       "      <th>Age</th>\n",
       "      <th>City</th>\n",
       "      <th>Salary</th>\n",
       "      <th>Perfomance Score</th>\n",
       "    </tr>\n",
       "  </thead>\n",
       "  <tbody>\n",
       "    <tr>\n",
       "      <th>0</th>\n",
       "      <td>Alice</td>\n",
       "      <td>25</td>\n",
       "      <td>New York</td>\n",
       "      <td>50000</td>\n",
       "      <td>78.0</td>\n",
       "    </tr>\n",
       "    <tr>\n",
       "      <th>1</th>\n",
       "      <td>Bob</td>\n",
       "      <td>30</td>\n",
       "      <td>Los Angeles</td>\n",
       "      <td>60000</td>\n",
       "      <td>NaN</td>\n",
       "    </tr>\n",
       "    <tr>\n",
       "      <th>2</th>\n",
       "      <td>Charlie</td>\n",
       "      <td>45</td>\n",
       "      <td>Chicago</td>\n",
       "      <td>70000</td>\n",
       "      <td>90.0</td>\n",
       "    </tr>\n",
       "    <tr>\n",
       "      <th>3</th>\n",
       "      <td>David</td>\n",
       "      <td>14</td>\n",
       "      <td>Houston</td>\n",
       "      <td>80000</td>\n",
       "      <td>80.0</td>\n",
       "    </tr>\n",
       "  </tbody>\n",
       "</table>\n",
       "</div>"
      ],
      "text/plain": [
       "      Name  Age         City  Salary  Perfomance Score\n",
       "0    Alice   25     New York   50000              78.0\n",
       "1      Bob   30  Los Angeles   60000               NaN\n",
       "2  Charlie   45      Chicago   70000              90.0\n",
       "3    David   14      Houston   80000              80.0"
      ]
     },
     "execution_count": 21,
     "metadata": {},
     "output_type": "execute_result"
    }
   ],
   "source": [
    "import pandas as pd\n",
    "\n",
    "# Sample data dictionary\n",
    "data = {\n",
    "    'Name': ['Alice', 'Bob', 'Charlie', 'David'],\n",
    "    'Age': [25, 30, 45, 14],\n",
    "    'City': ['New York', 'Los Angeles', 'Chicago', 'Houston'],\n",
    "    'Salary': [50000, 60000, 70000, 80000],\n",
    "    'Perfomance Score': [78, None, 90, 80]\n",
    "}\n",
    "\n",
    "# Convert the dictionary into two DataFrames\n",
    "df1 = pd.DataFrame(data)\n",
    "df1\n"
   ]
  },
  {
   "cell_type": "code",
   "execution_count": 24,
   "id": "caabf9ca-161a-4389-8017-0df6a2cdcec6",
   "metadata": {},
   "outputs": [
    {
     "name": "stdout",
     "output_type": "stream",
     "text": [
      "Age\n",
      "14    80000\n",
      "25    50000\n",
      "30    60000\n",
      "45    70000\n",
      "Name: Salary, dtype: int64\n"
     ]
    }
   ],
   "source": [
    "# grouped = df1.groupby('Age' this is column parametrer )['Salary'].sum()\n",
    "grouped = df1.groupby('Age')['Salary'].sum()\n",
    "print(grouped)"
   ]
  },
  {
   "cell_type": "code",
   "execution_count": 30,
   "id": "e3d96992-6eb0-4c34-a609-fd162698863c",
   "metadata": {},
   "outputs": [
    {
     "name": "stdout",
     "output_type": "stream",
     "text": [
      "Age\n",
      "14    1\n",
      "25    1\n",
      "30    1\n",
      "45    1\n",
      "Name: Salary, dtype: int64\n"
     ]
    }
   ],
   "source": [
    "grouped = df1.groupby('Age')['Salary'].count()\n",
    "print(grouped)\n",
    "#  min()\n",
    "#  max()\n",
    "#  mean()\n",
    "#  count()\n",
    "#  avg()\n",
    "#  std()"
   ]
  },
  {
   "cell_type": "markdown",
   "id": "14804145-6857-4f10-9962-ba108670574d",
   "metadata": {},
   "source": []
  },
  {
   "cell_type": "markdown",
   "id": "640189d5-fee2-4a8a-9451-f7c212c7b684",
   "metadata": {},
   "source": [
    "# Muliple Column grouping -->"
   ]
  },
  {
   "cell_type": "code",
   "execution_count": 35,
   "id": "a20c0053-4580-46b5-85dc-7a8c3ae64f5f",
   "metadata": {},
   "outputs": [
    {
     "name": "stdout",
     "output_type": "stream",
     "text": [
      "Age  Name   \n",
      "14   David      80000\n",
      "25   Alice      50000\n",
      "30   Bob        60000\n",
      "45   Charlie    70000\n",
      "Name: Salary, dtype: int64\n"
     ]
    }
   ],
   "source": [
    "grouped = df1.groupby(['Age','Name'])['Salary'].sum()\n",
    "print(grouped)"
   ]
  },
  {
   "cell_type": "code",
   "execution_count": null,
   "id": "d57288fe-af24-4160-9282-61fefc97833e",
   "metadata": {},
   "outputs": [],
   "source": []
  }
 ],
 "metadata": {
  "kernelspec": {
   "display_name": "Python 3 (ipykernel)",
   "language": "python",
   "name": "python3"
  },
  "language_info": {
   "codemirror_mode": {
    "name": "ipython",
    "version": 3
   },
   "file_extension": ".py",
   "mimetype": "text/x-python",
   "name": "python",
   "nbconvert_exporter": "python",
   "pygments_lexer": "ipython3",
   "version": "3.12.0"
  },
  "widgets": {
   "application/vnd.jupyter.widget-state+json": {
    "state": {},
    "version_major": 2,
    "version_minor": 0
   }
  }
 },
 "nbformat": 4,
 "nbformat_minor": 5
}
