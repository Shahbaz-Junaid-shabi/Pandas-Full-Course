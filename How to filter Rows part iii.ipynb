{
 "cells": [
  {
   "cell_type": "markdown",
   "id": "49b565d9-ff5a-4aaa-9188-7314b9328a4a",
   "metadata": {},
   "source": [
    "# How to filter Rows "
   ]
  },
  {
   "cell_type": "code",
   "execution_count": 9,
   "id": "8b248d79-a0ae-48bb-97cd-eab271a21652",
   "metadata": {},
   "outputs": [
    {
     "data": {
      "text/html": [
       "<div>\n",
       "<style scoped>\n",
       "    .dataframe tbody tr th:only-of-type {\n",
       "        vertical-align: middle;\n",
       "    }\n",
       "\n",
       "    .dataframe tbody tr th {\n",
       "        vertical-align: top;\n",
       "    }\n",
       "\n",
       "    .dataframe thead th {\n",
       "        text-align: right;\n",
       "    }\n",
       "</style>\n",
       "<table border=\"1\" class=\"dataframe\">\n",
       "  <thead>\n",
       "    <tr style=\"text-align: right;\">\n",
       "      <th></th>\n",
       "      <th>Name</th>\n",
       "      <th>Age</th>\n",
       "      <th>City</th>\n",
       "      <th>Salary</th>\n",
       "      <th>Perfomance Score</th>\n",
       "    </tr>\n",
       "  </thead>\n",
       "  <tbody>\n",
       "    <tr>\n",
       "      <th>0</th>\n",
       "      <td>Alice</td>\n",
       "      <td>25</td>\n",
       "      <td>New York</td>\n",
       "      <td>50000</td>\n",
       "      <td>78</td>\n",
       "    </tr>\n",
       "    <tr>\n",
       "      <th>1</th>\n",
       "      <td>Bob</td>\n",
       "      <td>30</td>\n",
       "      <td>Los Angeles</td>\n",
       "      <td>60000</td>\n",
       "      <td>50</td>\n",
       "    </tr>\n",
       "    <tr>\n",
       "      <th>2</th>\n",
       "      <td>Charlie</td>\n",
       "      <td>35</td>\n",
       "      <td>Chicago</td>\n",
       "      <td>70000</td>\n",
       "      <td>90</td>\n",
       "    </tr>\n",
       "    <tr>\n",
       "      <th>3</th>\n",
       "      <td>David</td>\n",
       "      <td>40</td>\n",
       "      <td>Houston</td>\n",
       "      <td>80000</td>\n",
       "      <td>80</td>\n",
       "    </tr>\n",
       "  </tbody>\n",
       "</table>\n",
       "</div>"
      ],
      "text/plain": [
       "      Name  Age         City  Salary  Perfomance Score\n",
       "0    Alice   25     New York   50000                78\n",
       "1      Bob   30  Los Angeles   60000                50\n",
       "2  Charlie   35      Chicago   70000                90\n",
       "3    David   40      Houston   80000                80"
      ]
     },
     "execution_count": 9,
     "metadata": {},
     "output_type": "execute_result"
    }
   ],
   "source": [
    "import pandas as pd\n",
    "\n",
    "# Sample data dictionary\n",
    "data = {\n",
    "    'Name': ['Alice', 'Bob', 'Charlie', 'David'],\n",
    "    'Age': [25, 30, 35, 40],\n",
    "    'City': ['New York', 'Los Angeles', 'Chicago', 'Houston'],\n",
    "    'Salary': [50000, 60000, 70000, 80000],\n",
    "    'Perfomance Score': [78, 50, 90, 80]\n",
    "}\n",
    "\n",
    "# Convert the dictionary into two DataFrames\n",
    "df1 = pd.DataFrame(data)\n",
    "df1\n"
   ]
  },
  {
   "cell_type": "code",
   "execution_count": 2,
   "id": "0db9a2c6-feef-469f-9fc8-da6db4b6e0cc",
   "metadata": {},
   "outputs": [
    {
     "name": "stdout",
     "output_type": "stream",
     "text": [
      "      Name  Age         City  Salary  Perfomance Score\n",
      "1      Bob   30  Los Angeles   60000                50\n",
      "2  Charlie   35      Chicago   70000                90\n",
      "3    David   40      Houston   80000                80\n"
     ]
    }
   ],
   "source": [
    "d = df1[df1['Salary'] > 50000]\n",
    "print(d)"
   ]
  },
  {
   "cell_type": "code",
   "execution_count": 3,
   "id": "117b7d05-8dcf-4839-aa45-94cc71f25d07",
   "metadata": {},
   "outputs": [],
   "source": [
    "# filter rows salary > 60000 <= 700000"
   ]
  },
  {
   "cell_type": "code",
   "execution_count": 18,
   "id": "a0513526-53b1-4b9d-87e2-ce63f7511509",
   "metadata": {},
   "outputs": [
    {
     "name": "stdout",
     "output_type": "stream",
     "text": [
      "    Name  Age      City  Salary  Perfomance Score\n",
      "0  Alice   25  New York   50000                78\n"
     ]
    }
   ],
   "source": [
    "d = df1[(df1['Age'] < 30) & (df1['Salary'] <= 70000)]\n",
    "print(d)\n"
   ]
  },
  {
   "cell_type": "code",
   "execution_count": null,
   "id": "4c42d26b-7019-44d8-abb3-9c8052e9c48b",
   "metadata": {},
   "outputs": [],
   "source": []
  }
 ],
 "metadata": {
  "kernelspec": {
   "display_name": "Python 3 (ipykernel)",
   "language": "python",
   "name": "python3"
  },
  "language_info": {
   "codemirror_mode": {
    "name": "ipython",
    "version": 3
   },
   "file_extension": ".py",
   "mimetype": "text/x-python",
   "name": "python",
   "nbconvert_exporter": "python",
   "pygments_lexer": "ipython3",
   "version": "3.12.0"
  },
  "widgets": {
   "application/vnd.jupyter.widget-state+json": {
    "state": {},
    "version_major": 2,
    "version_minor": 0
   }
  }
 },
 "nbformat": 4,
 "nbformat_minor": 5
}
