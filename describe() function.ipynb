{
 "cells": [
  {
   "cell_type": "code",
   "execution_count": 2,
   "id": "b35b8b0d-24a7-47c8-8a6e-ab2cf6380dbe",
   "metadata": {},
   "outputs": [
    {
     "name": "stdout",
     "output_type": "stream",
     "text": [
      "Summary statistics for df1:\n",
      "              Age        Salary  Perfomance Score\n",
      "count   4.000000      4.000000          4.000000\n",
      "mean   32.500000  65000.000000         74.500000\n",
      "std     6.454972  12909.944487         17.156146\n",
      "min    25.000000  50000.000000         50.000000\n",
      "25%    28.750000  57500.000000         71.000000\n",
      "50%    32.500000  65000.000000         79.000000\n",
      "75%    36.250000  72500.000000         82.500000\n",
      "max    40.000000  80000.000000         90.000000\n"
     ]
    }
   ],
   "source": [
    "import pandas as pd\n",
    "\n",
    "# Sample data dictionary\n",
    "data = {\n",
    "    'Name': ['Alice', 'Bob', 'Charlie', 'David'],\n",
    "    'Age': [25, 30, 35, 40],\n",
    "    'City': ['New York', 'Los Angeles', 'Chicago', 'Houston'],\n",
    "    'Salary': [50000, 60000, 70000, 80000],\n",
    "    'Perfomance Score': [78, 50, 90, 80]\n",
    "}\n",
    "\n",
    "# Convert the dictionary into two DataFrames\n",
    "df1 = pd.DataFrame(data)\n",
    "\n",
    "# Use the describe() function on the first DataFrame\n",
    "print(\"Summary statistics for df1:\\n\", df1.describe())\n"
   ]
  },
  {
   "cell_type": "code",
   "execution_count": 3,
   "id": "0493669b-d983-441c-97e9-660a12dd8f44",
   "metadata": {},
   "outputs": [
    {
     "data": {
      "text/plain": [
       "Index(['Name', 'Age', 'City', 'Salary', 'Perfomance Score'], dtype='object')"
      ]
     },
     "execution_count": 3,
     "metadata": {},
     "output_type": "execute_result"
    }
   ],
   "source": [
    "df1.columns"
   ]
  },
  {
   "cell_type": "code",
   "execution_count": 4,
   "id": "09e5da4c-80d0-4d67-8db9-2c9011b274c5",
   "metadata": {},
   "outputs": [
    {
     "data": {
      "text/plain": [
       "(4, 5)"
      ]
     },
     "execution_count": 4,
     "metadata": {},
     "output_type": "execute_result"
    }
   ],
   "source": [
    "df1.shape"
   ]
  },
  {
   "cell_type": "code",
   "execution_count": null,
   "id": "eadbbfca-7a63-4b48-8b35-db299ed9602e",
   "metadata": {},
   "outputs": [],
   "source": []
  }
 ],
 "metadata": {
  "kernelspec": {
   "display_name": "Python 3 (ipykernel)",
   "language": "python",
   "name": "python3"
  },
  "language_info": {
   "codemirror_mode": {
    "name": "ipython",
    "version": 3
   },
   "file_extension": ".py",
   "mimetype": "text/x-python",
   "name": "python",
   "nbconvert_exporter": "python",
   "pygments_lexer": "ipython3",
   "version": "3.12.0"
  },
  "widgets": {
   "application/vnd.jupyter.widget-state+json": {
    "state": {},
    "version_major": 2,
    "version_minor": 0
   }
  }
 },
 "nbformat": 4,
 "nbformat_minor": 5
}
